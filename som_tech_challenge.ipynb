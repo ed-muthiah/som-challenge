{
 "cells": [
  {
   "cell_type": "markdown",
   "metadata": {},
   "source": [
    "# Self Organising Map Challenge\n",
    "\n",
    "## The Kohonen Network\n",
    "\n",
    "The Kohonen Self Organizing Map (SOM) provides a data visualization technique which helps to understand high dimensional data by reducing the dimensions of data to a map. SOM also represents clustering concept by grouping similar data together.\n",
    "\n",
    "Unlike other learning technique in neural networks, training a SOM requires no target vector. A SOM learns to classify the training data without any external supervision.\n",
    "\n",
    "![Network](http://www.pitt.edu/~is2470pb/Spring05/FinalProjects/Group1a/tutorial/kohonen1.gif)\n",
    "\n",
    "### Structure\n",
    "A network has a width and a height that descibes the grid of nodes.  For example, the grid may be 4x4, and so there would be 16 nodes.\n",
    "\n",
    "Each node has a weight for each value in the input vector.  A weight is simply a float value that the node multiplies the input value by to determine how influential it is (see below)\n",
    "\n",
    "Each node has a set of weights that match the size of the input vector.  For example, if the input vector has 10 elements, each node would have 10 weights.\n",
    "\n",
    "### Training \n",
    "To train the network\n",
    "\n",
    "1. Each node's weights are initialized.\n",
    "2. We enumerate through the training data for some number of iterations (repeating if necessary).  The current value we are training against will be referred to as the `current input vector`\n",
    "3. Every node is examined to calculate which one's weights are most like the input vector. The winning node is commonly known as the Best Matching Unit (BMU).\n",
    "4. The radius of the neighbourhood of the BMU is now calculated. This is a value that starts large, typically set to the 'radius' of the lattice,  but diminishes each time-step. Any nodes found within this radius are deemed to be inside the BMU's neighbourhood.\n",
    "5. Each neighbouring node's (the nodes found in step 4) weights are adjusted to make them more like the input vector. The closer a node is to the BMU, the more its weights get altered.\n",
    "6. Go to step 2 until we've completed N iterations.\n",
    "    \n",
    "\n",
    "### Calculating the Best Matching Unit (BMU)\n",
    "\n",
    "To determine the best matching unit, one method is to iterate through all the nodes and calculate the Euclidean distance between each node's weight vector and the current input vector. The node with a weight vector closest to the input vector is tagged as the BMU.\n",
    "\n",
    "The Euclidean distance $\\mathsf{distance}_{i}$ (from the input vector $V$ to the $i$th node's weights $W_i$)is given as (using Pythagoras):\n",
    "\n",
    "$$ \\mathsf{distance}_{i}=\\sqrt{\\sum_{k=0}^{k=n}(V_k - W_{i_k})^2}$$\n",
    "\n",
    "where V is the current input vector and $W_i$ is the node's weight vector.  $n$ is the size of the input & weight vector.\n",
    "\n",
    "*Note*: $V$ and $W$ are vectors.  $V$ is the input vector, and $W_i$ is the weight vector of the $i$th node.  $V_k$ and $W_{i_k}$ represent the $k$'th value within those vectors.  \n",
    "\n",
    "The BMU is the node with the minimal distance for the current input vector\n",
    "\n",
    "### Calculating the Neighbourhood Radius\n",
    "\n",
    "The next step is to calculate which of the other nodes are within the BMU's neighbourhood. All these nodes will have their weight vectors altered.\n",
    "\n",
    "First we calculate what the radius of the neighbourhood should be and then use Pythagoras to determine if each node is within the radial distance or not.\n",
    "\n",
    "A unique feature of the Kohonen learning algorithm is that the area of the neighbourhood shrinks over time. To do this we use the exponential decay function:\n",
    "\n",
    "Given a desired number of training iterations $n$:\n",
    "$$n_{\\mathsf{max iterations}} = 100$$\n",
    "\n",
    "Calculate the radius $\\sigma_t$ at iteration number $t$:\n",
    "\n",
    "$$\\sigma_t = \\sigma_0 \\exp\\left(- \\frac{t}{\\lambda} \\right) \\qquad t = 1,2,3,4... $$\n",
    "\n",
    "Where $\\sigma_0$ denotes the neighbourhood radius at iteration $t=0$, $t$ is the current iteration. We define $\\sigma_0$ (the initial radius) and $\\lambda$ (the time constant) as below:\n",
    "\n",
    "$$\\sigma_0 = \\frac{\\max(width,height)}{2} \\qquad \\lambda = \\frac{n_{\\mathsf{max iterations}}}{\\log(\\sigma_0)} $$\n",
    "\n",
    "Where $width$ & $height$ are the width and height of the grid.\n",
    "\n",
    "### Calculating the Learning Rate\n",
    "\n",
    "We define the initial leanring rate $\\alpha_0$ at iteration $t = 0$ as:\n",
    "$$\\alpha_0 = 0.1$$\n",
    "\n",
    "So, we can calculate the learning rate at a given iteration t as:\n",
    "\n",
    "$$\\alpha_t = \\alpha_0 \\exp \\left(- \\frac{t}{\\lambda} \\right) $$\n",
    "\n",
    "where $t$ is the iteration number, $\\lambda$ is the time constant (calculated above)\n",
    "        \n",
    "### Calculating the Influence\n",
    "\n",
    "As well as the learning rate, we need to calculate the influence $\\theta_t$ of the learning/training at a given iteration $t$.  \n",
    "\n",
    "So for each node, we need to caclulate the euclidean distance $d_i$ from the BMU to that node.  Similar to when we calculate the distance to find the BMU, we use Pythagoras.  The current ($i$th) node's x position is given by $x(W_i)$, and the BMU's x position is, likewise, given by $x(Z)$.  Similarly, $y()$ returns the y position of a node.\n",
    "\n",
    "$$ d_{i}=\\sqrt{(x(W_i) - x(Z))^2 + (y(W_i) - y(Z))^2} $$\n",
    "\n",
    "Then, the influence decays over time according to:\n",
    "\n",
    "$$\\theta_t = \\exp \\left( - \\frac{d_{i}^2}{2\\sigma_t^2} \\right) $$\n",
    "\n",
    "Where $\\sigma_t$ is the neighbourhood radius at iteration $t$ as calculated above. \n",
    "\n",
    "Note: You will need to come up with an approach to x() and y().\n",
    "\n",
    "\n",
    "### Updating the Weights\n",
    "\n",
    "To update the weights of a given node, we use:\n",
    "\n",
    "$$W_{i_{t+1}} = W_{i_t} + \\alpha_t \\theta_t (V_t - W_{i_t})$$\n",
    "        \n",
    "So $W_{i_{t+1}}$ is the new value of the weight for the $i$th node, $V_t$ is the current value of the training data, $W_{i_t}$ is the current weight and $\\alpha_t$ and $\\theta_t$ are the learning rate and influence calculated above.\n",
    "\n",
    "*Note*: the $W$ and $V$ are vectors "
   ]
  },
  {
   "cell_type": "markdown",
   "metadata": {},
   "source": [
    "## Challenge\n",
    "\n",
    "In this challenge, you need to implement a SOM such that it can categorise a set of random 3-dimensional colours.  The output should be an image of the organised data.  \n",
    "\n",
    "### Expectations and Criteria\n",
    "- Be prepared to talk through your decisions & thinking (we encourage you to include these in code comments too!)\n",
    "- You may use any language you like (the examples given below are using Python)\n",
    "- Avoid libraries that would do too much of the work for you. For example, in Python a good approach would be to use `numpy`, but no packages with SOM specific functionality\n",
    "- Try and make your code as efficient as possible. Feel free to deviate from a literal interpretation of the instructions given under the **Training** heading above\n",
    "- Consider the best way to structure your code and code base for later use by other developers or in anticipation of productionisation (you don't need to use a Jupyter Notebook)\n",
    "- Include any tests you may have used (tests are not required however)\n",
    "- Include a `Dockerfile` to package your code for production\n",
    "- Be prepared to discuss your approach and process to productionise this application\n",
    "- You can use code below to generate the trainig data of 10 colours:"
   ]
  },
  {
   "cell_type": "code",
   "execution_count": 1,
   "metadata": {},
   "outputs": [
    {
     "name": "stdout",
     "output_type": "stream",
     "text": [
      "[[0.37454012 0.95071431 0.73199394]\n",
      " [0.59865848 0.15601864 0.15599452]\n",
      " [0.05808361 0.86617615 0.60111501]\n",
      " [0.70807258 0.02058449 0.96990985]\n",
      " [0.83244264 0.21233911 0.18182497]\n",
      " [0.18340451 0.30424224 0.52475643]\n",
      " [0.43194502 0.29122914 0.61185289]\n",
      " [0.13949386 0.29214465 0.36636184]\n",
      " [0.45606998 0.78517596 0.19967378]\n",
      " [0.51423444 0.59241457 0.04645041]]\n"
     ]
    },
    {
     "data": {
      "text/plain": [
       "<matplotlib.image.AxesImage at 0x27b5bb83808>"
      ]
     },
     "execution_count": 1,
     "metadata": {},
     "output_type": "execute_result"
    },
    {
     "data": {
      "image/png": "[encoded data removed]",
      "text/plain": [
       "<Figure size 432x288 with 1 Axes>"
      ]
     },
     "metadata": {
      "needs_background": "light"
     },
     "output_type": "display_data"
    }
   ],
   "source": [
    "# Generate Data\n",
    "import numpy as np\n",
    "np.random.seed(seed=42)\n",
    "input_data = np.random.random((10,3))\n",
    "print(input_data)\n",
    "img = np.reshape(input_data, (1,input_data.shape[0],3))\n",
    "\n",
    "\n",
    "%matplotlib inline\n",
    "import matplotlib\n",
    "import matplotlib.pyplot as plt\n",
    "plt.imshow(img)"
   ]
  },
  {
   "cell_type": "markdown",
   "metadata": {},
   "source": [
    "### 1. Implement a Kohonen network\n",
    "- Use the above description to implement a Kohonen network\n",
    "- Make sure you can configure the size of the input vector and the size of the map\n",
    "- Make sure node's weights are initialized to random values"
   ]
  },
  {
   "cell_type": "code",
   "execution_count": 2,
   "metadata": {},
   "outputs": [],
   "source": [
    "import numpy as np\n",
    "from numba import jit\n",
    "\n",
    "class SOM():\n",
    "    \"\"\"\n",
    "    My SOM Implementation. The focus of this implementation is in vectorisation and \\\n",
    "    setting up the classes to be compatible with Numba through the static method.\n",
    "    \n",
    "    Usage example:\n",
    "        np.random.seed(seed=42)\n",
    "        input_data = np.random.random((20,3))\n",
    "        size = 10\n",
    "        som = SOM(size,size)\n",
    "        som.train(input_data, number_iterations=10, initial_learningrate=0.1)\n",
    "    \"\"\"\n",
    "    def __init__(self, width, height):\n",
    "        super(SOM, self).__init__()\n",
    "        self.width = width\n",
    "        self.height = height\n",
    "        \n",
    "    @staticmethod\n",
    "    @jit(nopython=True)\n",
    "    def calculate_euclidean_distance(matrix, vector):\n",
    "        \"\"\"\n",
    "        L2 Norm Calculation by subtracting a single row from a column matrix. \n",
    "        \"\"\"\n",
    "        dist_array = np.sum((matrix - vector)**2, axis=1)\n",
    "        return dist_array\n",
    "        \n",
    "    @staticmethod\n",
    "    @jit(nopython=True)\n",
    "    def calculate_BMU(current_input_vector, weights):\n",
    "        \"\"\"\n",
    "        Best Matching Unit (BMU) calculation.\n",
    "        - Reshapes into column array\n",
    "        - Calculates L2 Norm\n",
    "        - Finds argmin id and 2D coordinates of the BMU\n",
    "        \"\"\"\n",
    "        weights_reshaped = weights.reshape(-1,3)\n",
    "        dist_array = np.sum((weights_reshaped - current_input_vector)**2, axis=1)\n",
    "        min_id = np.argmin(dist_array)\n",
    "        \n",
    "        BMU_x_coords = min_id // weights.shape[0]\n",
    "        BMU_y_coords = min_id % weights.shape[1]\n",
    "        BMU_coord = np.array([BMU_x_coords,BMU_y_coords])\n",
    "        return min_id, BMU_coord   \n",
    "    \n",
    "    @staticmethod\n",
    "    @jit(nopython=True)\n",
    "    def calculate_decay(current_iteration, time_constant):\n",
    "        \"\"\"\n",
    "        Decay calculation to run once at every time step.\n",
    "        \"\"\"\n",
    "        decay = np.exp(-current_iteration / time_constant)\n",
    "        return decay\n",
    "    \n",
    "    @staticmethod\n",
    "    @jit(nopython=True)\n",
    "    def calculate_radius(initial_radius,decay):\n",
    "        \"\"\"\n",
    "        Radius calculation to run once at every time step.\n",
    "        \"\"\"\n",
    "        current_radius = initial_radius * decay\n",
    "        return current_radius\n",
    "\n",
    "    @staticmethod\n",
    "    @jit(nopython=True)\n",
    "    def calculate_neighbourhood(current_radius, BMU_coord, dimensions):\n",
    "        \"\"\"\n",
    "        Neighbour calculation:\n",
    "        - Create 3D array where the first page is the x coordinate associated with \\\n",
    "        each element and the second page is the y coordinate. This allows us to get \\\n",
    "        the x and y coordinate of any particular grid element (i.e. (3,10))\n",
    "        - Subtract BMU from this git to get manhattan distance of every element to BMU coords\n",
    "        - Calculate L2 norm of entire grid from BMU coords\n",
    "        - Check inside radius\n",
    "        - Returns coordinates and IDs of nodes inside the current_radius\n",
    "        \"\"\"\n",
    "        # Normally we would just use np.indicies but numba doesn't like it! so we are reworking from source code\n",
    "        # Create coordinates grid\n",
    "        N = 2 # 2D Iamge\n",
    "        output_shape = np.array((N,dimensions[0],dimensions[1])) ###\n",
    "        my_tuple = (output_shape[0],output_shape[1],output_shape[2])\n",
    "        coords_list = np.ones(my_tuple,dtype=np.int32)\n",
    "        for i, dim in enumerate(dimensions):\n",
    "            if i == 0:\n",
    "                reshape_shape = (dim,1)\n",
    "            else:\n",
    "                reshape_shape = (1,dim)\n",
    "            idx_temp = np.arange(dim)\n",
    "            idx = idx_temp.reshape(reshape_shape)\n",
    "            coords_list[i] = idx\n",
    "        coords_list = coords_list.reshape(2,-1).T\n",
    "        \n",
    "        # Subtract the BMU_coord coords to get manhattans\n",
    "        dist = coords_list - np.array((BMU_coord[0],BMU_coord[1]))\n",
    "        abs_dist = np.abs(dist) # Absolute value of manhattan\n",
    "        dist_sum = np.sqrt(np.square(abs_dist).sum(1)) # L2 Norm\n",
    "        # dist_sum = (abs_dist).sum(1) # L1 Norm\n",
    "        id_mask = dist_sum <= int(current_radius) # Get true/false mask\n",
    "        ids = np.where(id_mask)[0] \n",
    "        return coords_list, id_mask, ids # Returns coordinates of nodes inside the current_radius\n",
    "\n",
    "    @staticmethod\n",
    "    @jit(nopython=True)\n",
    "    def calculate_learningrate(initial_learningrate, decay):\n",
    "        \"\"\"\n",
    "        Learning rate calculation to run once at every time step.\n",
    "        \"\"\"\n",
    "        current_learningrate = initial_learningrate * decay\n",
    "        return current_learningrate\n",
    "\n",
    "    @staticmethod\n",
    "    @jit(nopython=True)\n",
    "    def calculate_influence(coords_list, id_mask, ids, BMU_coord, current_radius):\n",
    "        \"\"\"\n",
    "        Vectorised influence array calculation:\n",
    "        - Calculate influence using the coords list of nodes inside the radius (i.e. (22,3))\n",
    "        - Pad the influence array to the full size and fill with zeros (i.e. (100,3)) to assist in update calc\n",
    "        \"\"\"\n",
    "        dist_array = np.sum((coords_list[id_mask] - BMU_coord)**2, axis=1)\n",
    "        influence_array = np.exp(- dist_array / (2 * current_radius**2))\n",
    "        padded_influence_array = np.zeros((coords_list.shape[0],1))\n",
    "        influence_array = np.reshape(influence_array, (-1, 1))\n",
    "        padded_influence_array[ids] = influence_array\n",
    "        return padded_influence_array\n",
    "\n",
    "    @staticmethod\n",
    "    @jit(nopython=True)\n",
    "    def calculate_update(weights, current_learningrate, padded_influence_array, current_input_vector):\n",
    "        \"\"\"\n",
    "        Vectorised update calculation:\n",
    "        - Use the padded influence array (i.e. 100,3) to calculate updates for all weights in a \\\n",
    "        single vectorised equation\n",
    "        \"\"\"\n",
    "        weights_reshaped = weights.reshape(-1,3)\n",
    "        updated_weights = weights_reshaped + current_learningrate * padded_influence_array * (current_input_vector - weights_reshaped)\n",
    "        updated_weights = updated_weights.reshape(weights.shape)\n",
    "        return updated_weights\n",
    "\n",
    "    @staticmethod\n",
    "    @jit(nopython=True)\n",
    "    def get_current_input_vector(input_data):\n",
    "        \"\"\"\n",
    "        Randomly select a single row from input data\n",
    "        \"\"\"\n",
    "        number_of_rows = input_data.shape[0]\n",
    "        random_indices = np.random.choice(number_of_rows, size=1)\n",
    "        current_input_vector = input_data[random_indices, :]\n",
    "        return current_input_vector\n",
    "\n",
    "    @staticmethod\n",
    "    @jit(nopython=True)\n",
    "    def get_image(weights, size, number_attributes):\n",
    "        \"\"\"\n",
    "        Get image for displaying the weights image\n",
    "        \"\"\"\n",
    "        current_weights_image = np.reshape(weights, (size,size,number_attributes))\n",
    "        return current_weights_image\n",
    "    \n",
    "    def train(self, input_data, number_iterations, initial_learningrate):\n",
    "        \"\"\"\n",
    "        Training Loop:\n",
    "        Initialise Data and Weights\n",
    "        ## for 0 to n_iters\n",
    "            ## Randomly choose current input data\n",
    "            ## Calculate BMU\n",
    "            ## Calculate Radius\n",
    "            ## Calculate Neighbourhood\n",
    "            ## Calculate Learning Rate\n",
    "            ## Calculate Influence\n",
    "            ## Calculate Update Weights\n",
    "        ## Generate Image\n",
    "        \"\"\"\n",
    "\n",
    "\n",
    "        self.input_data = input_data\n",
    "        self.number_attributes = input_data.shape[1]\n",
    "        self.weights = np.random.random((self.width, self.height, self.number_attributes))\n",
    "        self.number_iterations = number_iterations\n",
    "        self.initial_radius = np.max((self.width,self.height))/2\n",
    "        self.initial_learningrate = initial_learningrate\n",
    "        self.time_constant = self.number_iterations/np.log(self.initial_radius)\n",
    "#         self.current_weights_image = np.random.random((self.width, self.height, self.number_attributes))\n",
    "        \n",
    "        for current_iteration in range(self.number_iterations):\n",
    "            current_input_vector = SOM.get_current_input_vector(self.input_data)\n",
    "            min_id, BMU_coord = SOM.calculate_BMU(current_input_vector, self.weights)\n",
    "            decay = SOM.calculate_decay(current_iteration, self.time_constant)\n",
    "            current_radius = SOM.calculate_radius(self.initial_radius, decay)\n",
    "            dimensions = np.array([self.width, self.height])\n",
    "            coords_list, id_mask, ids = SOM.calculate_neighbourhood(current_radius, BMU_coord, dimensions)\n",
    "            current_learningrate = SOM.calculate_learningrate(self.initial_learningrate, decay)\n",
    "            padded_influence_array = SOM.calculate_influence(coords_list, id_mask, ids, BMU_coord, current_radius)\n",
    "            updated_weights = SOM.calculate_update(self.weights, current_learningrate, padded_influence_array, current_input_vector)\n",
    "            self.weights = updated_weights\n",
    "#             current_weights_image = SOM.get_image(self.weights, self.width, self.number_attributes)"
   ]
  },
  {
   "cell_type": "markdown",
   "metadata": {},
   "source": [
    "### 2. Train a 10x10 network over 100 iterations\n",
    "\n",
    "- Training data is a random set of 20 colours\n",
    "- How long does this take?\n",
    "- What does the map look like? (You will need to translate the weights of each node in the map to pixel data)\n",
    "- What does this look like if you perform 200 & 500 iterations?\n",
    "\n",
    "You should end up with something that looks like below after 500 iterations:"
   ]
  },
  {
   "cell_type": "code",
   "execution_count": 3,
   "metadata": {},
   "outputs": [],
   "source": [
    "# Run once for Numba caching\n",
    "np.random.seed(seed=42)\n",
    "input_data = np.random.random((20,3))\n",
    "size = 10\n",
    "som = SOM(size,size)\n",
    "som.train(input_data, number_iterations=10, initial_learningrate=0.1)"
   ]
  },
  {
   "cell_type": "code",
   "execution_count": 4,
   "metadata": {},
   "outputs": [
    {
     "name": "stdout",
     "output_type": "stream",
     "text": [
      "1.74 ms ± 61.2 µs per loop (mean ± std. dev. of 7 runs, 100 loops each)\n"
     ]
    },
    {
     "data": {
      "text/plain": [
       "<matplotlib.image.AxesImage at 0x27b5e8a9988>"
      ]
     },
     "execution_count": 4,
     "metadata": {},
     "output_type": "execute_result"
    },
    {
     "data": {
      "image/png": "[encoded data removed]",
      "text/plain": [
       "<Figure size 432x288 with 1 Axes>"
      ]
     },
     "metadata": {
      "needs_background": "light"
     },
     "output_type": "display_data"
    }
   ],
   "source": [
    "# Map size 10 and 100 iterations\n",
    "np.random.seed(seed=42)\n",
    "input_data = np.random.random((20,3))\n",
    "size = 10\n",
    "som100 = SOM(size,size)\n",
    "%timeit -n 100 som100.train(input_data, number_iterations=100, initial_learningrate=0.1)\n",
    "\n",
    "# Plot\n",
    "weights_100_img = som100.get_image(som100.weights, size, 3)\n",
    "plt.imshow(weights_100_img)"
   ]
  },
  {
   "cell_type": "code",
   "execution_count": 5,
   "metadata": {},
   "outputs": [
    {
     "name": "stdout",
     "output_type": "stream",
     "text": [
      "3.42 ms ± 74.8 µs per loop (mean ± std. dev. of 7 runs, 100 loops each)\n"
     ]
    },
    {
     "data": {
      "text/plain": [
       "<matplotlib.image.AxesImage at 0x27b5e3cfb88>"
      ]
     },
     "execution_count": 5,
     "metadata": {},
     "output_type": "execute_result"
    },
    {
     "data": {
      "image/png": "[encoded data removed]",
      "text/plain": [
       "<Figure size 432x288 with 1 Axes>"
      ]
     },
     "metadata": {
      "needs_background": "light"
     },
     "output_type": "display_data"
    }
   ],
   "source": [
    "# Map size 10 and 200 iterations\n",
    "np.random.seed(seed=42)\n",
    "input_data = np.random.random((20,3))\n",
    "size = 10\n",
    "som100 = SOM(size,size)\n",
    "%timeit -n 100 som100.train(input_data, number_iterations=200, initial_learningrate=0.1)\n",
    "\n",
    "# Plot\n",
    "weights_100_img = som100.get_image(som100.weights, size, 3)\n",
    "plt.imshow(weights_100_img)"
   ]
  },
  {
   "cell_type": "code",
   "execution_count": 6,
   "metadata": {},
   "outputs": [
    {
     "name": "stdout",
     "output_type": "stream",
     "text": [
      "8.73 ms ± 298 µs per loop (mean ± std. dev. of 7 runs, 100 loops each)\n"
     ]
    },
    {
     "data": {
      "text/plain": [
       "<matplotlib.image.AxesImage at 0x27b5e6b5648>"
      ]
     },
     "execution_count": 6,
     "metadata": {},
     "output_type": "execute_result"
    },
    {
     "data": {
      "image/png": "[encoded data removed]",
      "text/plain": [
       "<Figure size 432x288 with 1 Axes>"
      ]
     },
     "metadata": {
      "needs_background": "light"
     },
     "output_type": "display_data"
    }
   ],
   "source": [
    "# Map size 10 and 500 iterations\n",
    "np.random.seed(seed=42)\n",
    "input_data = np.random.random((20,3))\n",
    "size = 10\n",
    "som100 = SOM(size,size)\n",
    "%timeit -n 100 som100.train(input_data, number_iterations=500, initial_learningrate=0.1)\n",
    "\n",
    "# Plot\n",
    "weights_100_img = som100.get_image(som100.weights, size, 3)\n",
    "plt.imshow(weights_100_img)"
   ]
  },
  {
   "cell_type": "markdown",
   "metadata": {},
   "source": [
    "### 3. Train a 100x100 network over 1000 iterations\n",
    "\n",
    "- This network will likely be significantly slower to train\n",
    "- What could you do to improve performance?\n",
    "- What does the network look like after 1000 iterations?\n",
    "\n",
    "You should end up with something like below:"
   ]
  },
  {
   "cell_type": "code",
   "execution_count": 7,
   "metadata": {},
   "outputs": [
    {
     "name": "stdout",
     "output_type": "stream",
     "text": [
      "332 ms ± 9.4 ms per loop (mean ± std. dev. of 7 runs, 100 loops each)\n"
     ]
    },
    {
     "data": {
      "text/plain": [
       "<matplotlib.image.AxesImage at 0x27b5e3e7dc8>"
      ]
     },
     "execution_count": 7,
     "metadata": {},
     "output_type": "execute_result"
    },
    {
     "data": {
      "image/png": "[encoded data removed]",
      "text/plain": [
       "<Figure size 432x288 with 1 Axes>"
      ]
     },
     "metadata": {
      "needs_background": "light"
     },
     "output_type": "display_data"
    }
   ],
   "source": [
    "np.random.seed(seed=42)\n",
    "input_data = np.random.random((100,3))\n",
    "size = 100\n",
    "som1000 = SOM(size,size)\n",
    "%timeit -n 100 som1000.train(input_data, number_iterations=1000, initial_learningrate=0.1)\n",
    "\n",
    "# Plot\n",
    "weights_1000_img = som1000.get_image(som1000.weights, size, 3)\n",
    "plt.imshow(weights_1000_img)"
   ]
  },
  {
   "cell_type": "code",
   "execution_count": 9,
   "metadata": {},
   "outputs": [
    {
     "name": "stdout",
     "output_type": "stream",
     "text": [
      "         9017 function calls in 0.375 seconds\n",
      "\n",
      "   Ordered by: standard name\n",
      "\n",
      "   ncalls  tottime  percall  cumtime  percall filename:lineno(function)\n",
      "     1000    0.000    0.000    0.000    0.000 :0(array)\n",
      "        1    0.000    0.000    0.375    0.375 :0(exec)\n",
      "        1    0.000    0.000    0.000    0.000 :0(getattr)\n",
      "        1    0.000    0.000    0.000    0.000 :0(implement_array_function)\n",
      "        1    0.000    0.000    0.000    0.000 :0(items)\n",
      "        2    0.000    0.000    0.000    0.000 :0(random)\n",
      "        1    0.000    0.000    0.000    0.000 :0(reduce)\n",
      "        1    0.000    0.000    0.000    0.000 :0(setprofile)\n",
      "        1    0.000    0.000    0.000    0.000 <__array_function__ internals>:2(amax)\n",
      "     1000    0.000    0.000    0.000    0.000 <ipython-input-2-7209291588f4>:104(calculate_learningrate)\n",
      "     1000    0.016    0.000    0.016    0.000 <ipython-input-2-7209291588f4>:113(calculate_influence)\n",
      "     1000    0.047    0.000    0.047    0.000 <ipython-input-2-7209291588f4>:128(calculate_update)\n",
      "     1000    0.000    0.000    0.000    0.000 <ipython-input-2-7209291588f4>:141(get_current_input_vector)\n",
      "        1    0.000    0.000    0.000    0.000 <ipython-input-2-7209291588f4>:16(__init__)\n",
      "        1    0.047    0.047    0.375    0.375 <ipython-input-2-7209291588f4>:161(train)\n",
      "     1000    0.156    0.000    0.156    0.000 <ipython-input-2-7209291588f4>:30(calculate_BMU)\n",
      "     1000    0.000    0.000    0.000    0.000 <ipython-input-2-7209291588f4>:48(calculate_decay)\n",
      "     1000    0.000    0.000    0.000    0.000 <ipython-input-2-7209291588f4>:57(calculate_radius)\n",
      "     1000    0.109    0.000    0.109    0.000 <ipython-input-2-7209291588f4>:66(calculate_neighbourhood)\n",
      "        1    0.000    0.000    0.375    0.375 <string>:1(<module>)\n",
      "        1    0.000    0.000    0.000    0.000 fromnumeric.py:2584(_amax_dispatcher)\n",
      "        1    0.000    0.000    0.000    0.000 fromnumeric.py:2589(amax)\n",
      "        1    0.000    0.000    0.000    0.000 fromnumeric.py:70(_wrapreduction)\n",
      "        1    0.000    0.000    0.000    0.000 fromnumeric.py:71(<dictcomp>)\n",
      "        1    0.000    0.000    0.375    0.375 profile:0(input_data=np.random.random((100,3)); size=100; som = SOM(size,size);              som.train(input_data, number_iterations=1000, initial_learningrate=0.1);print)\n",
      "        0    0.000             0.000          profile:0(profiler)\n",
      "\n",
      "\n"
     ]
    }
   ],
   "source": [
    "import profile\n",
    "profile.run('input_data=np.random.random((100,3)); size=100; som = SOM(size,size); \\\n",
    "             som.train(input_data, number_iterations=1000, initial_learningrate=0.1);print')"
   ]
  },
  {
   "cell_type": "markdown",
   "metadata": {},
   "source": [
    "### 4. Application"
   ]
  },
  {
   "cell_type": "code",
   "execution_count": null,
   "metadata": {},
   "outputs": [],
   "source": [
    "import cv2\n",
    "img = cv2.imread('./test_images/ed.jpeg')\n",
    "print('Image Dimensions :', img.shape)\n",
    "rgb_img = cv2.cvtColor(img, cv2.COLOR_BGR2RGB)\n",
    "plt.imshow(rgb_img)\n",
    "plt.show()\n",
    "\n",
    "# Generate Data\n",
    "np.random.seed(seed=2010)\n",
    "def get_current_input_vector(input_data,count):\n",
    "    number_of_rows = input_data.shape[0]\n",
    "    random_indices = np.random.choice(number_of_rows, size=count)\n",
    "    current_input_vector = input_data[random_indices, :]\n",
    "    return current_input_vector\n",
    "\n",
    "image_vector = rgb_img.reshape(-1,3)/255\n",
    "current_input_vector = get_current_input_vector(image_vector, count = 5)\n",
    "\n",
    "img = np.reshape(current_input_vector, (1,current_input_vector.shape[0],3))\n",
    "\n",
    "%matplotlib inline\n",
    "import matplotlib\n",
    "import matplotlib.pyplot as plt\n",
    "plt.imshow(img)"
   ]
  },
  {
   "cell_type": "code",
   "execution_count": null,
   "metadata": {},
   "outputs": [],
   "source": [
    "np.random.seed(seed=42)\n",
    "img = cv2.imread('./test_images/ed.jpeg')\n",
    "rgb_img = cv2.cvtColor(img, cv2.COLOR_BGR2RGB)\n",
    "image_vector = rgb_img.reshape(-1,3)/255\n",
    "\n",
    "size = 100\n",
    "som3 = SOM(size,size)\n",
    "som3.train(image_vector, number_iterations=2000, initial_learningrate=0.1)\n",
    "output = np.reshape(som3.weights, (size,size,3))\n",
    "\n",
    "%matplotlib inline\n",
    "import matplotlib\n",
    "import matplotlib.pyplot as plt\n",
    "plt.imshow(output)"
   ]
  },
  {
   "cell_type": "code",
   "execution_count": null,
   "metadata": {},
   "outputs": [],
   "source": [
    "import glob\n",
    "import cv2 as cv2\n",
    "keyword = \"downloads\"\n",
    "path = glob.glob(f\"./google-image-download/{keyword}/*\")\n",
    "cv_img = None\n",
    "count = 0\n",
    "for img in path:\n",
    "    if count == 0:\n",
    "        new = cv2.imread(img)\n",
    "        new_rgb = cv2.cvtColor(new, cv2.COLOR_BGR2RGB)\n",
    "        new_rgb = cv2.resize(new_rgb, (300,300), interpolation = cv2.INTER_AREA)\n",
    "        cv_img = new_rgb\n",
    "    elif count > 4:\n",
    "        break\n",
    "    else:\n",
    "        new = cv2.imread(img)\n",
    "        new_rgb = cv2.cvtColor(new, cv2.COLOR_BGR2RGB)\n",
    "        new_rgb = cv2.resize(new_rgb, (300,300), interpolation = cv2.INTER_AREA)\n",
    "        cv_img = np.concatenate((cv_img, new_rgb), axis = 1)\n",
    "    count += 1\n",
    "\n",
    "plt_img = cv_img/255\n",
    "plt.imshow(plt_img)\n",
    "plt.show()"
   ]
  },
  {
   "cell_type": "code",
   "execution_count": null,
   "metadata": {},
   "outputs": [],
   "source": [
    "np.random.seed(seed=42)\n",
    "image_vector = cv_img.reshape(-1,3)/255\n",
    "\n",
    "size = 100\n",
    "som3 = SOM(size,size)\n",
    "som3.train(image_vector, number_iterations=2000, initial_learningrate=0.1)\n",
    "output = np.reshape(som3.weights, (size,size,3))\n",
    "\n",
    "%matplotlib inline\n",
    "import matplotlib\n",
    "import matplotlib.pyplot as plt\n",
    "plt.imshow(output)"
   ]
  },
  {
   "cell_type": "code",
   "execution_count": null,
   "metadata": {},
   "outputs": [],
   "source": []
  }
 ],
 "metadata": {
  "kernelspec": {
   "display_name": "Python 3",
   "language": "python",
   "name": "python3"
  },
  "language_info": {
   "codemirror_mode": {
    "name": "ipython",
    "version": 3
   },
   "file_extension": ".py",
   "mimetype": "text/x-python",
   "name": "python",
   "nbconvert_exporter": "python",
   "pygments_lexer": "ipython3",
   "version": "3.7.9"
  }
 },
 "nbformat": 4,
 "nbformat_minor": 4
}
